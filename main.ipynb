{
  "cells": [
    {
      "cell_type": "markdown",
      "metadata": {
        "colab_type": "text",
        "id": "view-in-github"
      },
      "source": [
        "<a href=\"https://colab.research.google.com/github/molonepa/pneumonia_classifier/blob/master/main.ipynb\" target=\"_parent\"><img src=\"https://colab.research.google.com/assets/colab-badge.svg\" alt=\"Open In Colab\"/></a>"
      ]
    },
    {
      "cell_type": "markdown",
      "metadata": {
        "colab_type": "text",
        "id": "3ekRn3OGuqqG"
      },
      "source": [
        "Import packages"
      ]
    },
    {
      "cell_type": "code",
      "execution_count": null,
      "metadata": {
        "colab": {},
        "colab_type": "code",
        "id": "M9f8wSTpuprl"
      },
      "outputs": [],
      "source": [
        "\n",
        "import scipy\n",
        "import tensorflow as tf\n",
        "from tensorflow.keras.models import Sequential\n",
        "from tensorflow.keras.layers import Dense, Conv2D, Flatten, Dropout, MaxPooling2D\n",
        "from tensorflow.keras.preprocessing.image import ImageDataGenerator\n",
        "import os\n",
        "import numpy as np\n",
        "import matplotlib.pyplot as plt"
      ]
    },
    {
      "cell_type": "markdown",
      "metadata": {
        "colab_type": "text",
        "id": "QiN-SFPExqd4"
      },
      "source": [
        "Set path variables and print image counts"
      ]
    },
    {
      "cell_type": "code",
      "execution_count": null,
      "metadata": {
        "colab": {
          "base_uri": "https://localhost:8080/",
          "height": 215
        },
        "colab_type": "code",
        "id": "OtmWSGjqxtKH",
        "outputId": "a27a03eb-2771-442a-c082-b9b81b855e55"
      },
      "outputs": [],
      "source": [
        "DATA_PATH = 'data'\n",
        "\n",
        "TRAIN_DIR = os.path.join(DATA_PATH, 'train')\n",
        "TEST_DIR = os.path.join(DATA_PATH, 'test')\n",
        "VAL_DIR = os.path.join(DATA_PATH, 'val')\n",
        "\n",
        "train_normal_dir = os.path.join(TRAIN_DIR, 'NORMAL')\n",
        "train_pneumonia_dir = os.path.join(TRAIN_DIR, 'PNEUMONIA')\n",
        "test_normal_dir = os.path.join(TEST_DIR, 'NORMAL')\n",
        "test_pneumonia_dir = os.path.join(TEST_DIR, 'PNEUMONIA')\n",
        "val_normal_dir = os.path.join(VAL_DIR, 'NORMAL')\n",
        "val_pneumonia_dir = os.path.join(VAL_DIR, 'PNEUMONIA')\n",
        "\n",
        "print('NORMAL train images: {}'.format(len(os.listdir(train_normal_dir))))\n",
        "print('PNEUMONIA train images: {}'.format(len(os.listdir(train_pneumonia_dir))))\n",
        "print('total train images: {}\\n--'.format(len(os.listdir(train_normal_dir)) + len(os.listdir(train_pneumonia_dir))))\n",
        "\n",
        "print('NORMAL test images: {}'.format(len(os.listdir(test_normal_dir))))\n",
        "print('PNEUMONIA test images: {}'.format(len(os.listdir(test_pneumonia_dir))))\n",
        "print('total train images: {}\\n--'.format(len(os.listdir(test_normal_dir)) + len(os.listdir(test_pneumonia_dir))))\n",
        "\n",
        "print('NORMAL val images: {}'.format(len(os.listdir(val_normal_dir))))\n",
        "print('PNEUMONIA val images: {}'.format(len(os.listdir(val_pneumonia_dir))))\n",
        "print('total val images: {}'.format(len(os.listdir(val_normal_dir)) + len(os.listdir(val_pneumonia_dir))))"
      ]
    },
    {
      "cell_type": "markdown",
      "metadata": {
        "colab_type": "text",
        "id": "plFRDZR30P3F"
      },
      "source": [
        "Convert images into floating point tensors using ```ImageDataGenerator``` from ```tf.keras``` and plot them\n"
      ]
    },
    {
      "cell_type": "code",
      "execution_count": null,
      "metadata": {
        "colab": {},
        "colab_type": "code",
        "id": "dXFO-Xzz38_T"
      },
      "outputs": [],
      "source": [
        "# This function will plot images in the form of a grid with 1 row and 5 columns where images are placed in each column.\n",
        "def plotImages(images_arr):\n",
        "    fig, axes = plt.subplots(1, 5, figsize=(20,20))\n",
        "    axes = axes.flatten()\n",
        "    for img, ax in zip( images_arr, axes):\n",
        "        ax.imshow(img.astype('uint8'))\n",
        "        ax.axis('off')\n",
        "    plt.tight_layout()\n",
        "    plt.show()"
      ]
    },
    {
      "cell_type": "code",
      "execution_count": null,
      "metadata": {
        "colab": {
          "base_uri": "https://localhost:8080/",
          "height": 360
        },
        "colab_type": "code",
        "id": "5QKeECc61AC5",
        "outputId": "0ebce99e-354a-4245-cd0f-a88d6a45c90e"
      },
      "outputs": [],
      "source": [
        "BATCH_SIZE = 64\n",
        "NUM_EPOCHS = 15\n",
        "IMG_HEIGHT = 500\n",
        "IMG_WIDTH = 500\n",
        "\n",
        "train_image_generator = ImageDataGenerator()\n",
        "test_image_generator = ImageDataGenerator()\n",
        "val_image_generator = ImageDataGenerator()\n",
        "\n",
        "train_data_gen = train_image_generator.flow_from_directory(batch_size=BATCH_SIZE, directory=TRAIN_DIR, shuffle=True, target_size=(IMG_HEIGHT, IMG_WIDTH), class_mode='binary')\n",
        "test_data_gen = test_image_generator.flow_from_directory(batch_size=BATCH_SIZE, directory=TEST_DIR, shuffle=True, target_size=(IMG_HEIGHT, IMG_WIDTH), class_mode='binary')\n",
        "val_data_gen = val_image_generator.flow_from_directory(batch_size=BATCH_SIZE, directory=VAL_DIR, shuffle=True, target_size=(IMG_HEIGHT, IMG_WIDTH), class_mode='binary')\n",
        "\n",
        "sample_training_images, _ = next(train_data_gen)\n",
        "\n",
        "plotImages(sample_training_images[:5])"
      ]
    },
    {
      "cell_type": "markdown",
      "metadata": {
        "colab_type": "text",
        "id": "zr42H65h6cKG"
      },
      "source": [
        "Model definition"
      ]
    },
    {
      "cell_type": "code",
      "execution_count": null,
      "metadata": {
        "colab": {
          "base_uri": "https://localhost:8080/",
          "height": 485
        },
        "colab_type": "code",
        "id": "vWMRzPi441y1",
        "outputId": "f79dfe0d-db54-4cfb-89e2-23b6be8b9ed2"
      },
      "outputs": [],
      "source": [
        "model = Sequential([\n",
        "    Conv2D(16, 3, padding='same', activation='relu', input_shape=(IMG_HEIGHT, IMG_WIDTH ,3)),\n",
        "    MaxPooling2D(),\n",
        "    Conv2D(32, 3, padding='same', activation='relu'),\n",
        "    MaxPooling2D(),\n",
        "    Conv2D(64, 3, padding='same', activation='relu'),\n",
        "    MaxPooling2D(),\n",
        "    Flatten(),\n",
        "    Dense(512, activation='relu'),\n",
        "    Dense(1)\n",
        "])\n",
        "model.compile(optimizer='adam', loss=tf.keras.losses.BinaryCrossentropy(from_logits=True), metrics=['accuracy'])\n",
        "model.summary()"
      ]
    },
    {
      "cell_type": "markdown",
      "metadata": {
        "colab_type": "text",
        "id": "lTfxEOHU7W9t"
      },
      "source": [
        "Train"
      ]
    },
    {
      "cell_type": "code",
      "execution_count": null,
      "metadata": {
        "colab": {
          "base_uri": "https://localhost:8080/",
          "height": 109
        },
        "colab_type": "code",
        "id": "nEndYOxx7YfU",
        "outputId": "e2ec722e-86e8-471c-a864-eedfc8eb2015"
      },
      "outputs": [],
      "source": [
        "history = model.fit_generator(\n",
        "    train_data_gen,\n",
        "    steps_per_epoch=len(os.listdir(train_normal_dir)) + len(os.listdir(train_pneumonia_dir)) // BATCH_SIZE,\n",
        "    epochs=NUM_EPOCHS,\n",
        "    validation_data=val_data_gen,\n",
        "    validation_steps=len(os.listdir(val_normal_dir)) + len(os.listdir(val_pneumonia_dir)) // BATCH_SIZE\n",
        ")"
      ]
    },
    {
      "cell_type": "code",
      "execution_count": null,
      "metadata": {
        "colab": {
          "base_uri": "https://localhost:8080/",
          "height": 71
        },
        "colab_type": "code",
        "id": "rJMVWbNb-rDS",
        "outputId": "aaf82ce9-1af0-428b-c75c-494eec2e8477"
      },
      "outputs": [],
      "source": [
        "import numpy as np\n",
        "for f in (np.float32, np.float64, float):\n",
        "    finfo = np.finfo(f)\n",
        "    print(finfo.dtype, finfo.nexp, finfo.nmant)"
      ]
    }
  ],
  "metadata": {
    "accelerator": "GPU",
    "colab": {
      "authorship_tag": "ABX9TyN2urg6Mo8UbFbdIM9XD164",
      "include_colab_link": true,
      "name": "main.ipynb",
      "provenance": []
    },
    "kernelspec": {
      "display_name": "pneumonia",
      "language": "python",
      "name": "python3"
    },
    "language_info": {
      "codemirror_mode": {
        "name": "ipython",
        "version": 3
      },
      "file_extension": ".py",
      "mimetype": "text/x-python",
      "name": "python",
      "nbconvert_exporter": "python",
      "pygments_lexer": "ipython3",
      "version": "3.8.10"
    },
    "vscode": {
      "interpreter": {
        "hash": "6b77314e70dbaf1f8966914191b7d5ace21b6562c2f8d6dcc3011b9a42c0dc48"
      }
    }
  },
  "nbformat": 4,
  "nbformat_minor": 0
}
